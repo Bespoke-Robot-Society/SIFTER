{
 "cells": [
  {
   "cell_type": "code",
   "execution_count": 1,
   "metadata": {},
   "outputs": [],
   "source": [
    "import os\n",
    "import pandas as pd\n",
    "from sklearn.model_selection import train_test_split\n",
    "from sklearn.preprocessing import MinMaxScaler\n",
    "import numpy as np\n",
    "import torch\n",
    "import torch.optim as optim\n",
    "\n",
    "from preprocessing import Preprocessing\n",
    "from cnn_model import SpectrogramArrivalCNN\n",
    "from training import ModelTrainer\n",
    "from dataloader import DataLoaderHandler\n",
    "from testing import Testing\n",
    "\n",
    "# Paths to your data\n",
    "lunar_catalog_path = 'data/lunar/training/catalogs/apollo12_catalog_GradeA_final.csv'\n",
    "lunar_data_directory = 'data/lunar/training/data/S12_GradeA/'\n",
    "lunar_data_images_dir = 'model/model_output/lunar_preprocessed_images/'\n",
    "save_dir_lunar = lunar_data_images_dir\n",
    "\n",
    "martian_data_directory = 'data/mars/training/data/'\n",
    "martian_data_images_dir = 'model/model_output/martian_preprocessed_images/'\n",
    "save_dir_mars = martian_data_images_dir\n",
    "\n",
    "# Load lunar catalog\n",
    "lunar_catalog = pd.read_csv(lunar_catalog_path)"
   ]
  },
  {
   "cell_type": "code",
   "execution_count": 2,
   "metadata": {},
   "outputs": [
    {
     "name": "stdout",
     "output_type": "stream",
     "text": [
      "Detected Event Arrival Time (relative): 150 s, (absolute): 1970-01-19T00:02:30.665000\n",
      "Detected Event Arrival Time (relative): 132 s, (absolute): 1970-03-25T00:02:12.440000\n",
      "Detected Event Arrival Time (relative): 143 s, (absolute): 1970-03-26T00:02:23.565000\n",
      "Detected Event Arrival Time (relative): 144 s, (absolute): 1970-04-25T00:02:24.196000\n",
      "Detected Event Arrival Time (relative): 131 s, (absolute): 1970-04-26T00:02:11.660000\n",
      "Detected Event Arrival Time (relative): 131 s, (absolute): 1970-06-15T00:02:11.510000\n",
      "Detected Event Arrival Time (relative): 131 s, (absolute): 1970-06-26T00:02:11.116000\n",
      "Detected Event Arrival Time (relative): 131 s, (absolute): 1970-07-20T00:02:11.487000\n",
      "Detected Event Arrival Time (relative): 131 s, (absolute): 1970-07-20T00:02:11.487000\n",
      "Detected Event Arrival Time (relative): 169 s, (absolute): 1970-09-26T00:02:49.149000\n",
      "Detected Event Arrival Time (relative): 131 s, (absolute): 1970-10-24T00:02:11.504000\n",
      "Detected Event Arrival Time (relative): 153 s, (absolute): 1970-11-12T00:02:33.700000\n",
      "Detected Event Arrival Time (relative): 207 s, (absolute): 1970-12-11T00:03:27.326000\n",
      "Detected Event Arrival Time (relative): 131 s, (absolute): 1970-12-27T00:02:11.517000\n",
      "Detected Event Arrival Time (relative): 140 s, (absolute): 1970-12-31T00:02:20.339000\n",
      "Detected Event Arrival Time (relative): 134 s, (absolute): 1971-01-15T00:02:14.258000\n",
      "Detected Event Arrival Time (relative): 131 s, (absolute): 1971-01-28T00:02:11.234000\n",
      "Detected Event Arrival Time (relative): 131 s, (absolute): 1971-01-29T00:02:11.194000\n",
      "Detected Event Arrival Time (relative): 135 s, (absolute): 1971-02-09T00:02:15.179000\n",
      "Detected Event Arrival Time (relative): 162 s, (absolute): 1971-03-25T00:02:42.151000\n",
      "Detected Event Arrival Time (relative): 288 s, (absolute): 1971-04-13T02:47:36.990062\n",
      "Detected Event Arrival Time (relative): 155 s, (absolute): 1971-04-17T00:02:35.387000\n",
      "Detected Event Arrival Time (relative): 131 s, (absolute): 1971-05-12T00:02:11.712000\n",
      "Detected Event Arrival Time (relative): 131 s, (absolute): 1971-05-12T00:02:11.712000\n",
      "Detected Event Arrival Time (relative): 142 s, (absolute): 1971-05-13T00:02:22.183000\n",
      "Detected Event Arrival Time (relative): 131 s, (absolute): 1971-05-23T00:02:11.502000\n",
      "Detected Event Arrival Time (relative): 131 s, (absolute): 1971-06-12T00:02:11.529000\n",
      "Detected Event Arrival Time (relative): 140 s, (absolute): 1971-09-25T00:02:20.576000\n",
      "Detected Event Arrival Time (relative): 131 s, (absolute): 1971-10-18T00:02:11.417000\n",
      "Detected Event Arrival Time (relative): 131 s, (absolute): 1971-10-20T00:02:11.425000\n",
      "Detected Event Arrival Time (relative): 132 s, (absolute): 1971-10-31T00:02:12.420000\n",
      "Detected Event Arrival Time (relative): 186 s, (absolute): 1971-11-14T00:03:06.602000\n",
      "Detected Event Arrival Time (relative): 131 s, (absolute): 1972-01-04T00:02:11.117000\n",
      "Detected Event Arrival Time (relative): 134 s, (absolute): 1972-03-12T00:02:14.417000\n",
      "Detected Event Arrival Time (relative): 133 s, (absolute): 1972-05-11T00:02:13.576000\n",
      "Detected Event Arrival Time (relative): 167 s, (absolute): 1972-06-16T00:02:47.116000\n",
      "Detected Event Arrival Time (relative): 131 s, (absolute): 1972-07-17T00:02:11.184000\n",
      "Detected Event Arrival Time (relative): 131 s, (absolute): 1972-07-17T00:02:11.184000\n",
      "Detected Event Arrival Time (relative): 136 s, (absolute): 1972-07-28T00:02:16.136000\n",
      "Detected Event Arrival Time (relative): 148 s, (absolute): 1972-07-31T00:02:28.622000\n",
      "Detected Event Arrival Time (relative): 135 s, (absolute): 1972-12-02T00:02:15.439000\n",
      "Detected Event Arrival Time (relative): 142 s, (absolute): 1972-12-03T00:02:22.552000\n",
      "Detected Event Arrival Time (relative): 131 s, (absolute): 1973-01-18T00:02:11.662000\n",
      "Detected Event Arrival Time (relative): 144 s, (absolute): 1973-01-31T00:02:24.595000\n",
      "Detected Event Arrival Time (relative): 131 s, (absolute): 1973-03-01T00:02:11.345000\n",
      "Detected Event Arrival Time (relative): 131 s, (absolute): 1973-03-13T00:02:11.472000\n",
      "Detected Event Arrival Time (relative): 131 s, (absolute): 1973-03-24T00:02:11.606000\n",
      "Detected Event Arrival Time (relative): 131 s, (absolute): 1973-05-14T00:02:11.397000\n",
      "Detected Event Arrival Time (relative): 131 s, (absolute): 1973-06-05T00:02:11.300000\n",
      "Detected Event Arrival Time (relative): 131 s, (absolute): 1973-06-05T00:02:11.300000\n",
      "Detected Event Arrival Time (relative): 131 s, (absolute): 1973-06-18T00:02:11.132000\n",
      "Detected Event Arrival Time (relative): 135 s, (absolute): 1973-06-27T00:02:15.230000\n",
      "Detected Event Arrival Time (relative): 131 s, (absolute): 1973-07-03T00:02:11.532000\n",
      "Detected Event Arrival Time (relative): 147 s, (absolute): 1973-07-04T00:02:27.544000\n",
      "Detected Event Arrival Time (relative): 131 s, (absolute): 1973-07-20T00:02:11.308000\n",
      "Detected Event Arrival Time (relative): 131 s, (absolute): 1973-07-28T00:02:11.275000\n",
      "Detected Event Arrival Time (relative): 253 s, (absolute): 1973-07-29T00:04:13.262000\n",
      "Detected Event Arrival Time (relative): 131 s, (absolute): 1973-08-21T00:02:11.652000\n",
      "Detected Event Arrival Time (relative): 131 s, (absolute): 1974-01-10T00:02:11.229000\n",
      "Detected Event Arrival Time (relative): 152 s, (absolute): 1974-02-07T00:02:32.354000\n",
      "Detected Event Arrival Time (relative): 131 s, (absolute): 1974-02-12T00:02:11.400000\n",
      "Detected Event Arrival Time (relative): 131 s, (absolute): 1974-03-25T00:02:11.598000\n",
      "Detected Event Arrival Time (relative): 137 s, (absolute): 1974-04-08T00:02:17.534000\n",
      "Detected Event Arrival Time (relative): 152 s, (absolute): 1974-04-19T00:02:32.568000\n",
      "Detected Event Arrival Time (relative): 131 s, (absolute): 1974-04-26T00:02:11.349000\n",
      "Detected Event Arrival Time (relative): 134 s, (absolute): 1974-04-27T00:02:14.646000\n",
      "Detected Event Arrival Time (relative): 149 s, (absolute): 1974-06-25T00:02:29.524000\n",
      "Detected Event Arrival Time (relative): 177 s, (absolute): 1974-07-06T00:02:57.193000\n",
      "Detected Event Arrival Time (relative): 177 s, (absolute): 1974-07-06T00:02:57.193000\n",
      "Detected Event Arrival Time (relative): 131 s, (absolute): 1974-07-11T00:02:11.359000\n",
      "Detected Event Arrival Time (relative): 131 s, (absolute): 1974-07-17T00:02:11.226000\n",
      "Detected Event Arrival Time (relative): 131 s, (absolute): 1974-10-14T00:02:11.996000\n",
      "Detected Event Arrival Time (relative): 141 s, (absolute): 1975-04-12T00:02:21.187000\n",
      "Detected Event Arrival Time (relative): 131 s, (absolute): 1975-05-04T00:02:11.457000\n",
      "Detected Event Arrival Time (relative): 192 s, (absolute): 1975-06-24T00:03:12.239000\n",
      "Detected Event Arrival Time (relative): 179 s, (absolute): 1975-06-26T00:02:59.542000\n"
     ]
    }
   ],
   "source": [
    "# Preprocess lunar data\n",
    "preprocessor = Preprocessing(save_dir_lunar)\n",
    "lunar_data, lunar_labels, lunar_arrival_times = preprocessor.preprocess_lunar_data(\n",
    "    catalog=lunar_catalog, data_dir=lunar_data_directory, combine_images=True\n",
    ")"
   ]
  },
  {
   "cell_type": "code",
   "execution_count": 3,
   "metadata": {},
   "outputs": [],
   "source": [
    "# Convert arrival times to relative time in seconds\n",
    "reference_time = pd.Timestamp('1970-01-01')\n",
    "lunar_arrival_times_in_seconds = preprocessor.convert_abs_to_rel_time(lunar_arrival_times, reference_time)"
   ]
  },
  {
   "cell_type": "code",
   "execution_count": 4,
   "metadata": {},
   "outputs": [],
   "source": [
    "# Train-test split on lunar data\n",
    "lunar_data_train, lunar_data_test, lunar_times_train, lunar_times_test = train_test_split(\n",
    "    lunar_data, lunar_arrival_times_in_seconds, test_size=0.2, random_state=42\n",
    ")"
   ]
  },
  {
   "cell_type": "code",
   "execution_count": 5,
   "metadata": {},
   "outputs": [],
   "source": [
    "# Normalize the arrival times\n",
    "scaler = MinMaxScaler()\n",
    "lunar_times_train_normalized = scaler.fit_transform(np.array(lunar_times_train).reshape(-1, 1)).flatten()\n",
    "lunar_times_test_normalized = scaler.transform(np.array(lunar_times_test).reshape(-1, 1)).flatten()"
   ]
  },
  {
   "cell_type": "code",
   "execution_count": 6,
   "metadata": {},
   "outputs": [],
   "source": [
    "# Prepare DataLoader for training and testing\n",
    "dataloader_handler = DataLoaderHandler(batch_size=32)\n",
    "lunar_train_loader = dataloader_handler.prepare_data_for_training(lunar_data_train, lunar_times_train_normalized)\n",
    "lunar_test_loader = dataloader_handler.prepare_data_for_training(lunar_data_test, lunar_times_test_normalized)"
   ]
  },
  {
   "cell_type": "code",
   "execution_count": 7,
   "metadata": {},
   "outputs": [],
   "source": [
    "# Initialize the model and move it to the appropriate device\n",
    "cnn_model = SpectrogramArrivalCNN()"
   ]
  },
  {
   "cell_type": "code",
   "execution_count": 8,
   "metadata": {},
   "outputs": [],
   "source": [
    "# Set up loss function and optimizer\n",
    "criterion_time = torch.nn.MSELoss()\n",
    "optimizer = optim.Adam(cnn_model.parameters(), lr=0.00001)"
   ]
  },
  {
   "cell_type": "code",
   "execution_count": 9,
   "metadata": {},
   "outputs": [
    {
     "name": "stderr",
     "output_type": "stream",
     "text": [
      "/home/aaron/GitHub/bespoke/SIFTER/.venv/lib/python3.11/site-packages/torch/nn/modules/loss.py:538: UserWarning: Using a target size (torch.Size([32])) that is different to the input size (torch.Size([32, 1])). This will likely lead to incorrect results due to broadcasting. Please ensure they have the same size.\n",
      "  return F.mse_loss(input, target, reduction=self.reduction)\n",
      "/home/aaron/GitHub/bespoke/SIFTER/.venv/lib/python3.11/site-packages/torch/nn/modules/loss.py:538: UserWarning: Using a target size (torch.Size([28])) that is different to the input size (torch.Size([28, 1])). This will likely lead to incorrect results due to broadcasting. Please ensure they have the same size.\n",
      "  return F.mse_loss(input, target, reduction=self.reduction)\n"
     ]
    },
    {
     "name": "stdout",
     "output_type": "stream",
     "text": [
      "Epoch [1/20], Loss: 0.5874735116958618\n",
      "Epoch [2/20], Loss: 0.5730822086334229\n",
      "Epoch [3/20], Loss: 0.5917485654354095\n",
      "Epoch [4/20], Loss: 0.5393049120903015\n",
      "Epoch [5/20], Loss: 0.5263840556144714\n",
      "Epoch [6/20], Loss: 0.5001329183578491\n",
      "Epoch [7/20], Loss: 0.48011399805545807\n",
      "Epoch [8/20], Loss: 0.48999081552028656\n",
      "Epoch [9/20], Loss: 0.3775226026773453\n",
      "Epoch [10/20], Loss: 0.41195233166217804\n",
      "Epoch [11/20], Loss: 0.4342464357614517\n",
      "Epoch [12/20], Loss: 0.3738560527563095\n",
      "Epoch [13/20], Loss: 0.4048239290714264\n",
      "Epoch [14/20], Loss: 0.45321959257125854\n",
      "Epoch [15/20], Loss: 0.363756999373436\n",
      "Epoch [16/20], Loss: 0.3911724239587784\n",
      "Epoch [17/20], Loss: 0.3418674021959305\n",
      "Epoch [18/20], Loss: 0.37683163583278656\n",
      "Epoch [19/20], Loss: 0.3547985255718231\n",
      "Epoch [20/20], Loss: 0.30029937624931335\n"
     ]
    }
   ],
   "source": [
    "# Train the model on lunar data\n",
    "trainer = ModelTrainer(cnn_model, criterion_time, optimizer)\n",
    "trainer.train(lunar_train_loader, num_epochs=20)"
   ]
  },
  {
   "cell_type": "code",
   "execution_count": 10,
   "metadata": {},
   "outputs": [
    {
     "name": "stdout",
     "output_type": "stream",
     "text": [
      "Test Loss: 0.29598575830459595\n"
     ]
    },
    {
     "name": "stderr",
     "output_type": "stream",
     "text": [
      "/home/aaron/GitHub/bespoke/SIFTER/.venv/lib/python3.11/site-packages/torch/nn/modules/loss.py:538: UserWarning: Using a target size (torch.Size([16])) that is different to the input size (torch.Size([16, 1])). This will likely lead to incorrect results due to broadcasting. Please ensure they have the same size.\n",
      "  return F.mse_loss(input, target, reduction=self.reduction)\n"
     ]
    }
   ],
   "source": [
    "# Evaluate the model on the test set\n",
    "trainer.evaluate(lunar_test_loader)"
   ]
  },
  {
   "cell_type": "code",
   "execution_count": 11,
   "metadata": {},
   "outputs": [],
   "source": [
    "# Save the trained model\n",
    "trainer.save_cnn_model('lunar_seismic_cnn_model_full.pth')\n",
    "trainer.save_cnn_model_state_dict('lunar_seismic_cnn_model_state_dict.pth')"
   ]
  },
  {
   "cell_type": "code",
   "execution_count": 12,
   "metadata": {},
   "outputs": [
    {
     "name": "stderr",
     "output_type": "stream",
     "text": [
      "/tmp/ipykernel_486363/3033808756.py:2: FutureWarning: You are using `torch.load` with `weights_only=False` (the current default value), which uses the default pickle module implicitly. It is possible to construct malicious pickle data which will execute arbitrary code during unpickling (See https://github.com/pytorch/pytorch/blob/main/SECURITY.md#untrusted-models for more details). In a future release, the default value for `weights_only` will be flipped to `True`. This limits the functions that could be executed during unpickling. Arbitrary objects will no longer be allowed to be loaded via this mode unless they are explicitly allowlisted by the user via `torch.serialization.add_safe_globals`. We recommend you start setting `weights_only=True` for any use case where you don't have full control of the loaded file. Please open an issue on GitHub for any issues related to this experimental feature.\n",
      "  cnn_model = torch.load('lunar_seismic_cnn_model_full.pth')\n"
     ]
    },
    {
     "data": {
      "text/plain": [
       "SpectrogramArrivalCNN(\n",
       "  (conv1): Conv2d(1, 32, kernel_size=(3, 3), stride=(1, 1), padding=(1, 1))\n",
       "  (bn1): BatchNorm2d(32, eps=1e-05, momentum=0.1, affine=True, track_running_stats=True)\n",
       "  (conv2): Conv2d(32, 64, kernel_size=(3, 3), stride=(1, 1), padding=(1, 1))\n",
       "  (bn2): BatchNorm2d(64, eps=1e-05, momentum=0.1, affine=True, track_running_stats=True)\n",
       "  (pool): MaxPool2d(kernel_size=2, stride=2, padding=0, dilation=1, ceil_mode=False)\n",
       "  (dropout): Dropout(p=0.5, inplace=False)\n",
       "  (fc_time): Linear(in_features=128, out_features=1, bias=True)\n",
       "  (fc1): Linear(in_features=200704, out_features=128, bias=True)\n",
       ")"
      ]
     },
     "execution_count": 12,
     "metadata": {},
     "output_type": "execute_result"
    }
   ],
   "source": [
    "# Load the full pretrained lunar model\n",
    "cnn_model = torch.load('lunar_seismic_cnn_model_full.pth')\n",
    "cnn_model.train()  # Set to training mode"
   ]
  },
  {
   "cell_type": "code",
   "execution_count": 13,
   "metadata": {},
   "outputs": [
    {
     "name": "stdout",
     "output_type": "stream",
     "text": [
      "Detected Event Arrival Time (relative): 399 s, (absolute): 2022-01-02T04:06:39.025000\n",
      "Detected Event Arrival Time (relative): 399 s, (absolute): 2022-02-03T08:06:39.009000\n"
     ]
    }
   ],
   "source": [
    "# Preprocess and self-train on Martian data\n",
    "preprocessor = Preprocessing(save_dir_mars)\n",
    "martian_images, _ = preprocessor.preprocess_martian_data(data_dir=martian_data_directory)\n",
    "martian_data_loader = dataloader_handler.prepare_unlabeled_data_loader(martian_images)"
   ]
  },
  {
   "cell_type": "code",
   "execution_count": 14,
   "metadata": {},
   "outputs": [
    {
     "name": "stdout",
     "output_type": "stream",
     "text": [
      "Epoch [1/10], Loss Time: 0.0\n",
      "Epoch [2/10], Loss Time: 0.0\n",
      "Epoch [3/10], Loss Time: 0.0\n",
      "Epoch [4/10], Loss Time: 0.0\n",
      "Epoch [5/10], Loss Time: 0.0\n",
      "Epoch [6/10], Loss Time: 0.0\n",
      "Epoch [7/10], Loss Time: 0.0\n",
      "Epoch [8/10], Loss Time: 0.0\n",
      "Epoch [9/10], Loss Time: 0.0\n",
      "Epoch [10/10], Loss Time: 0.0\n"
     ]
    }
   ],
   "source": [
    "# Self-training on Martian data\n",
    "trainer.self_train_on_martian_data(martian_data_loader, criterion_time=criterion_time, num_epochs=10)"
   ]
  },
  {
   "cell_type": "code",
   "execution_count": 15,
   "metadata": {},
   "outputs": [],
   "source": [
    "# Save the fine-tuned model after self-training on Martian data\n",
    "trainer.save_cnn_model('martian_seismic_cnn_model_full.pth')\n",
    "trainer.save_cnn_model_state_dict('martian_seismic_cnn_model_state_dict.pth')"
   ]
  },
  {
   "cell_type": "code",
   "execution_count": 16,
   "metadata": {},
   "outputs": [],
   "source": [
    "from sklearn.metrics import mean_squared_error, mean_absolute_error, r2_score\n",
    "\n",
    "# Evaluate the model on the test set and compute metrics\n",
    "def evaluate_and_get_metrics(trainer, test_loader):\n",
    "    \"\"\"\n",
    "    Evaluate the model and compute metrics like MSE, MAE, and R-squared on the test set.\n",
    "    \"\"\"\n",
    "    trainer.cnn_model.eval()  # Set to evaluation mode\n",
    "    all_preds = []\n",
    "    all_labels = []\n",
    "    \n",
    "    with torch.no_grad():\n",
    "        for batch in test_loader:\n",
    "            # Unpack batch depending on the structure returned by the dataloader\n",
    "            if isinstance(batch, (list, tuple)):\n",
    "                inputs, time_labels = batch[0], batch[1]\n",
    "            else:\n",
    "                inputs = batch\n",
    "                time_labels = None  # Adjust as per the actual data structure\n",
    "\n",
    "            # Forward pass\n",
    "            time_output = trainer.cnn_model(inputs)\n",
    "\n",
    "            # Collect predictions and actual labels\n",
    "            all_preds.extend(time_output.cpu().numpy())\n",
    "            all_labels.extend(time_labels.cpu().numpy())\n",
    "\n",
    "    # Convert to numpy arrays\n",
    "    all_preds = np.array(all_preds)\n",
    "    all_labels = np.array(all_labels)\n",
    "\n",
    "    # Compute regression metrics\n",
    "    mse = mean_squared_error(all_labels, all_preds)\n",
    "    mae = mean_absolute_error(all_labels, all_preds)\n",
    "    r2 = r2_score(all_labels, all_preds)\n",
    "\n",
    "    # Print metrics\n",
    "    print(f\"Mean Squared Error (MSE): {mse}\")\n",
    "    print(f\"Mean Absolute Error (MAE): {mae}\")\n",
    "    print(f\"R-squared (R²): {r2}\")\n",
    "\n",
    "    return mse, mae, r2"
   ]
  },
  {
   "cell_type": "code",
   "execution_count": 17,
   "metadata": {},
   "outputs": [
    {
     "name": "stdout",
     "output_type": "stream",
     "text": [
      "Mean Squared Error (MSE): 0.26671186089515686\n",
      "Mean Absolute Error (MAE): 0.43810832500457764\n",
      "R-squared (R²): -2.3124611377716064\n"
     ]
    }
   ],
   "source": [
    "\n",
    "# Evaluate the model and compute metrics on the test set\n",
    "mse, mae, r2 = evaluate_and_get_metrics(trainer, lunar_test_loader)"
   ]
  }
 ],
 "metadata": {
  "kernelspec": {
   "display_name": ".venv",
   "language": "python",
   "name": "python3"
  },
  "language_info": {
   "codemirror_mode": {
    "name": "ipython",
    "version": 3
   },
   "file_extension": ".py",
   "mimetype": "text/x-python",
   "name": "python",
   "nbconvert_exporter": "python",
   "pygments_lexer": "ipython3",
   "version": "3.11.2"
  }
 },
 "nbformat": 4,
 "nbformat_minor": 2
}
