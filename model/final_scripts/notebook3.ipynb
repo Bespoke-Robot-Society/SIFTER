{
 "cells": [
  {
   "cell_type": "code",
   "execution_count": 1,
   "metadata": {},
   "outputs": [],
   "source": [
    "# %% Import necessary libraries\n",
    "import os\n",
    "import pandas as pd\n",
    "from sklearn.model_selection import train_test_split\n",
    "from sklearn.preprocessing import MinMaxScaler\n",
    "import numpy as np\n",
    "import torch\n",
    "import torch.optim as optim\n",
    "from sklearn.metrics import mean_squared_error, mean_absolute_error, r2_score\n",
    "\n",
    "from preprocessing import Preprocessing\n",
    "from cnn_model import SpectrogramArrivalCNN\n",
    "from training import ModelTrainer\n",
    "from dataloader import DataLoaderHandler\n",
    "\n",
    "# %% Paths to your data\n",
    "lunar_catalog_path = 'data/lunar/training/catalogs/apollo12_catalog_GradeA_final.csv'\n",
    "lunar_data_directory = 'data/lunar/training/data/S12_GradeA/'\n",
    "lunar_data_images_dir = 'model/model_output/lunar_preprocessed_images/'\n",
    "save_dir_lunar = lunar_data_images_dir\n",
    "\n",
    "martian_data_directory = 'data/mars/training/data/'\n",
    "martian_data_images_dir = 'model/model_output/martian_preprocessed_images/'\n",
    "save_dir_mars = martian_data_images_dir\n",
    "\n",
    "# Load lunar catalog\n",
    "lunar_catalog = pd.read_csv(lunar_catalog_path)"
   ]
  },
  {
   "cell_type": "code",
   "execution_count": 2,
   "metadata": {},
   "outputs": [
    {
     "name": "stdout",
     "output_type": "stream",
     "text": [
      "Detected Event Arrival Time (relative): 2764.83 s, (absolute): 1970-01-19T00:46:05.495189\n",
      "Detected Event Arrival Time (relative): 23902.49 s, (absolute): 1970-03-26T06:38:23.055566\n",
      "Detected Event Arrival Time (relative): 4808.00 s, (absolute): 1970-04-25T01:20:08.196000\n",
      "Detected Event Arrival Time (relative): 690.11 s, (absolute): 1970-04-26T00:11:30.773208\n",
      "Detected Event Arrival Time (relative): 39007.70 s, (absolute): 1970-06-15T10:50:08.208113\n",
      "Detected Event Arrival Time (relative): 72180.08 s, (absolute): 1970-06-26T20:03:00.191472\n",
      "Detected Event Arrival Time (relative): 18486.19 s, (absolute): 1970-07-20T05:08:06.675679\n",
      "Detected Event Arrival Time (relative): 18486.19 s, (absolute): 1970-07-20T05:08:06.675679\n",
      "Detected Event Arrival Time (relative): 665.96 s, (absolute): 1970-09-26T00:11:06.111264\n",
      "Detected Event Arrival Time (relative): 16960.91 s, (absolute): 1970-10-24T04:42:41.409660\n",
      "Detected Event Arrival Time (relative): 10203.47 s, (absolute): 1970-11-12T02:50:04.171698\n",
      "Detected Event Arrival Time (relative): 20980.83 s, (absolute): 1970-12-11T05:49:41.156189\n",
      "Detected Event Arrival Time (relative): 74216.15 s, (absolute): 1970-12-27T20:36:56.667943\n",
      "Detected Event Arrival Time (relative): 8698.11 s, (absolute): 1970-12-31T02:24:58.452208\n",
      "Detected Event Arrival Time (relative): 44149.58 s, (absolute): 1971-01-15T12:15:49.842906\n",
      "Detected Event Arrival Time (relative): 43091.77 s, (absolute): 1971-01-28T11:58:12.007585\n",
      "Detected Event Arrival Time (relative): 56007.55 s, (absolute): 1971-01-29T15:33:27.741170\n",
      "Detected Event Arrival Time (relative): 35633.81 s, (absolute): 1971-02-09T09:53:53.990321\n",
      "Detected Event Arrival Time (relative): 747.17 s, (absolute): 1971-04-13T02:55:16.159873\n",
      "Detected Event Arrival Time (relative): 13826.57 s, (absolute): 1971-04-17T03:50:26.953038\n",
      "Detected Event Arrival Time (relative): 29194.87 s, (absolute): 1971-05-12T08:06:35.579925\n",
      "Detected Event Arrival Time (relative): 29194.87 s, (absolute): 1971-05-12T08:06:35.579925\n",
      "Detected Event Arrival Time (relative): 663.85 s, (absolute): 1971-05-23T00:11:04.351057\n",
      "Detected Event Arrival Time (relative): 599.85 s, (absolute): 1971-06-12T00:10:00.378057\n",
      "Detected Event Arrival Time (relative): 743.25 s, (absolute): 1971-09-25T00:12:23.821283\n",
      "Detected Event Arrival Time (relative): 3289.66 s, (absolute): 1971-10-18T00:54:50.077377\n",
      "Detected Event Arrival Time (relative): 600.00 s, (absolute): 1971-10-20T00:10:00.425000\n",
      "Detected Event Arrival Time (relative): 599.85 s, (absolute): 1971-10-31T00:10:00.269057\n",
      "Detected Event Arrival Time (relative): 2762.11 s, (absolute): 1971-11-14T00:46:02.715208\n",
      "Detected Event Arrival Time (relative): 6052.23 s, (absolute): 1972-01-04T01:40:52.343415\n",
      "Detected Event Arrival Time (relative): 679.09 s, (absolute): 1972-03-12T00:11:19.511340\n",
      "Detected Event Arrival Time (relative): 599.85 s, (absolute): 1972-05-11T00:10:00.425057\n",
      "Detected Event Arrival Time (relative): 702.34 s, (absolute): 1972-06-16T00:11:42.455623\n",
      "Detected Event Arrival Time (relative): 79160.60 s, (absolute): 1972-07-17T21:59:20.787774\n",
      "Detected Event Arrival Time (relative): 79160.60 s, (absolute): 1972-07-17T21:59:20.787774\n",
      "Detected Event Arrival Time (relative): 600.30 s, (absolute): 1972-07-28T00:10:00.437887\n",
      "Detected Event Arrival Time (relative): 40568.75 s, (absolute): 1972-07-31T11:16:09.376717\n",
      "Detected Event Arrival Time (relative): 599.85 s, (absolute): 1972-12-02T00:10:00.288057\n",
      "Detected Event Arrival Time (relative): 41838.49 s, (absolute): 1972-12-03T11:37:19.042566\n",
      "Detected Event Arrival Time (relative): 5397.58 s, (absolute): 1973-01-18T01:29:58.246906\n",
      "Detected Event Arrival Time (relative): 13870.19 s, (absolute): 1973-01-31T03:51:10.783679\n",
      "Detected Event Arrival Time (relative): 79283.02 s, (absolute): 1973-03-01T22:01:23.363868\n",
      "Detected Event Arrival Time (relative): 28928.60 s, (absolute): 1973-03-13T08:02:09.075774\n",
      "Detected Event Arrival Time (relative): 604.68 s, (absolute): 1973-05-14T00:10:05.076245\n",
      "Detected Event Arrival Time (relative): 599.85 s, (absolute): 1973-06-05T00:10:00.149057\n",
      "Detected Event Arrival Time (relative): 599.85 s, (absolute): 1973-06-05T00:10:00.149057\n",
      "Detected Event Arrival Time (relative): 57840.75 s, (absolute): 1973-06-18T16:04:00.886717\n",
      "Detected Event Arrival Time (relative): 599.85 s, (absolute): 1973-06-27T00:10:00.079057\n",
      "Detected Event Arrival Time (relative): 599.85 s, (absolute): 1973-07-03T00:10:00.381057\n",
      "Detected Event Arrival Time (relative): 769.51 s, (absolute): 1973-07-04T00:12:50.053434\n",
      "Detected Event Arrival Time (relative): 8194.72 s, (absolute): 1973-07-20T02:16:35.024981\n",
      "Detected Event Arrival Time (relative): 816.45 s, (absolute): 1973-07-28T00:13:36.727830\n",
      "Detected Event Arrival Time (relative): 1003.62 s, (absolute): 1973-07-29T00:16:43.884642\n",
      "Detected Event Arrival Time (relative): 3816.45 s, (absolute): 1973-08-21T01:03:37.104830\n",
      "Detected Event Arrival Time (relative): 38948.98 s, (absolute): 1974-01-10T10:49:09.210132\n",
      "Detected Event Arrival Time (relative): 599.85 s, (absolute): 1974-02-07T00:10:00.203057\n",
      "Detected Event Arrival Time (relative): 7512.00 s, (absolute): 1974-02-12T02:05:12.400000\n",
      "Detected Event Arrival Time (relative): 1656.91 s, (absolute): 1974-03-25T00:27:37.503660\n",
      "Detected Event Arrival Time (relative): 615.40 s, (absolute): 1974-04-08T00:10:15.930226\n",
      "Detected Event Arrival Time (relative): 622.34 s, (absolute): 1974-04-19T00:10:22.907623\n",
      "Detected Event Arrival Time (relative): 599.85 s, (absolute): 1974-04-26T00:10:00.198057\n",
      "Detected Event Arrival Time (relative): 10759.85 s, (absolute): 1974-07-06T02:59:20.042057\n",
      "Detected Event Arrival Time (relative): 10759.85 s, (absolute): 1974-07-06T02:59:20.042057\n",
      "Detected Event Arrival Time (relative): 599.85 s, (absolute): 1974-07-11T00:10:00.208057\n",
      "Detected Event Arrival Time (relative): 599.85 s, (absolute): 1974-10-14T00:10:00.845057\n",
      "Detected Event Arrival Time (relative): 599.85 s, (absolute): 1975-04-12T00:10:00.036057\n",
      "Detected Event Arrival Time (relative): 36341.74 s, (absolute): 1975-05-04T10:05:42.192849\n",
      "Detected Event Arrival Time (relative): 599.85 s, (absolute): 1975-06-24T00:10:00.088057\n",
      "Detected Event Arrival Time (relative): 656.30 s, (absolute): 1975-06-26T00:10:56.843887\n"
     ]
    }
   ],
   "source": [
    "# %% Preprocess lunar data\n",
    "preprocessor = Preprocessing(save_dir_lunar)\n",
    "lunar_data, lunar_labels, lunar_arrival_times = preprocessor.preprocess_lunar_data(\n",
    "    catalog=lunar_catalog, data_dir=lunar_data_directory, combine_images=True\n",
    ")"
   ]
  },
  {
   "cell_type": "code",
   "execution_count": 3,
   "metadata": {},
   "outputs": [],
   "source": [
    "# %% Convert arrival times to relative time in seconds\n",
    "reference_time = pd.Timestamp('1970-01-01')\n",
    "lunar_arrival_times_in_seconds = preprocessor.convert_abs_to_rel_time(lunar_arrival_times, reference_time)"
   ]
  },
  {
   "cell_type": "code",
   "execution_count": 4,
   "metadata": {},
   "outputs": [],
   "source": [
    "# %% Train-test split on lunar data\n",
    "lunar_data_train, lunar_data_test, lunar_times_train, lunar_times_test = train_test_split(\n",
    "    lunar_data, lunar_arrival_times_in_seconds, test_size=0.2, random_state=42\n",
    ")"
   ]
  },
  {
   "cell_type": "code",
   "execution_count": 5,
   "metadata": {},
   "outputs": [],
   "source": [
    "# %% Normalize the arrival times\n",
    "scaler = MinMaxScaler()\n",
    "lunar_times_train_normalized = scaler.fit_transform(np.array(lunar_times_train).reshape(-1, 1)).flatten()\n",
    "lunar_times_test_normalized = scaler.transform(np.array(lunar_times_test).reshape(-1, 1)).flatten()"
   ]
  },
  {
   "cell_type": "code",
   "execution_count": 6,
   "metadata": {},
   "outputs": [],
   "source": [
    "# %% Prepare DataLoader for training and testing\n",
    "dataloader_handler = DataLoaderHandler(batch_size=32)\n",
    "lunar_train_loader = dataloader_handler.prepare_data_for_training(lunar_data_train, lunar_times_train_normalized)\n",
    "lunar_test_loader = dataloader_handler.prepare_data_for_training(lunar_data_test, lunar_times_test_normalized)"
   ]
  },
  {
   "cell_type": "code",
   "execution_count": 7,
   "metadata": {},
   "outputs": [],
   "source": [
    "# %% Initialize the model and move it to the appropriate device\n",
    "cnn_model = SpectrogramArrivalCNN()"
   ]
  },
  {
   "cell_type": "code",
   "execution_count": 8,
   "metadata": {},
   "outputs": [],
   "source": [
    "# %% Set up loss function and optimizer\n",
    "criterion_time = torch.nn.MSELoss()\n",
    "optimizer = optim.Adam(cnn_model.parameters(), lr=0.00001)"
   ]
  },
  {
   "cell_type": "code",
   "execution_count": 9,
   "metadata": {},
   "outputs": [
    {
     "name": "stderr",
     "output_type": "stream",
     "text": [
      "/home/aaron/GitHub/bespoke/SIFTER/.venv/lib/python3.11/site-packages/torch/nn/modules/loss.py:538: UserWarning: Using a target size (torch.Size([32])) that is different to the input size (torch.Size([32, 1])). This will likely lead to incorrect results due to broadcasting. Please ensure they have the same size.\n",
      "  return F.mse_loss(input, target, reduction=self.reduction)\n",
      "/home/aaron/GitHub/bespoke/SIFTER/.venv/lib/python3.11/site-packages/torch/nn/modules/loss.py:538: UserWarning: Using a target size (torch.Size([28])) that is different to the input size (torch.Size([28, 1])). This will likely lead to incorrect results due to broadcasting. Please ensure they have the same size.\n",
      "  return F.mse_loss(input, target, reduction=self.reduction)\n"
     ]
    },
    {
     "name": "stdout",
     "output_type": "stream",
     "text": [
      "Epoch [1/20], Loss: 0.1975717470049858\n",
      "Epoch [2/20], Loss: 0.17310839891433716\n",
      "Epoch [3/20], Loss: 0.16392169892787933\n",
      "Epoch [4/20], Loss: 0.1622145026922226\n",
      "Epoch [5/20], Loss: 0.18764102458953857\n",
      "Epoch [6/20], Loss: 0.19298135489225388\n",
      "Epoch [7/20], Loss: 0.17319434881210327\n",
      "Epoch [8/20], Loss: 0.15053576231002808\n",
      "Epoch [9/20], Loss: 0.15659362077713013\n",
      "Epoch [10/20], Loss: 0.14627627655863762\n",
      "Epoch [11/20], Loss: 0.16067910194396973\n",
      "Epoch [12/20], Loss: 0.1615368202328682\n",
      "Epoch [13/20], Loss: 0.1408526673913002\n",
      "Epoch [14/20], Loss: 0.16656813025474548\n",
      "Epoch [15/20], Loss: 0.12675678730010986\n",
      "Epoch [16/20], Loss: 0.14464038610458374\n",
      "Epoch [17/20], Loss: 0.12265098839998245\n",
      "Epoch [18/20], Loss: 0.147186778485775\n",
      "Epoch [19/20], Loss: 0.13060923293232918\n",
      "Epoch [20/20], Loss: 0.13358046114444733\n"
     ]
    }
   ],
   "source": [
    "# %% Train the model on lunar data\n",
    "trainer = ModelTrainer(cnn_model, criterion_time, optimizer)\n",
    "trainer.train(lunar_train_loader, num_epochs=20)"
   ]
  },
  {
   "cell_type": "code",
   "execution_count": 10,
   "metadata": {},
   "outputs": [
    {
     "name": "stdout",
     "output_type": "stream",
     "text": [
      "Saved predicted absolute arrival times to CSV.\n",
      "Test Loss: 0.12299759685993195\n"
     ]
    },
    {
     "name": "stderr",
     "output_type": "stream",
     "text": [
      "/home/aaron/GitHub/bespoke/SIFTER/.venv/lib/python3.11/site-packages/torch/nn/modules/loss.py:538: UserWarning: Using a target size (torch.Size([16])) that is different to the input size (torch.Size([16, 1])). This will likely lead to incorrect results due to broadcasting. Please ensure they have the same size.\n",
      "  return F.mse_loss(input, target, reduction=self.reduction)\n"
     ]
    }
   ],
   "source": [
    "# %% Evaluate the model on the test set\n",
    "trainer.evaluate(lunar_test_loader, scaler=scaler, reference_time=reference_time)"
   ]
  },
  {
   "cell_type": "code",
   "execution_count": 11,
   "metadata": {},
   "outputs": [
    {
     "name": "stdout",
     "output_type": "stream",
     "text": [
      "Saved the full model to lunar_seismic_cnn_model_full.pth.\n",
      "Saved the model's state_dict to lunar_seismic_cnn_model_state_dict.pth.\n"
     ]
    }
   ],
   "source": [
    "# %% Save the trained model\n",
    "trainer.save_cnn_model('lunar_seismic_cnn_model_full.pth')\n",
    "trainer.save_cnn_model_state_dict('lunar_seismic_cnn_model_state_dict.pth')"
   ]
  },
  {
   "cell_type": "code",
   "execution_count": 12,
   "metadata": {},
   "outputs": [
    {
     "name": "stderr",
     "output_type": "stream",
     "text": [
      "/tmp/ipykernel_549311/2437316367.py:2: FutureWarning: You are using `torch.load` with `weights_only=False` (the current default value), which uses the default pickle module implicitly. It is possible to construct malicious pickle data which will execute arbitrary code during unpickling (See https://github.com/pytorch/pytorch/blob/main/SECURITY.md#untrusted-models for more details). In a future release, the default value for `weights_only` will be flipped to `True`. This limits the functions that could be executed during unpickling. Arbitrary objects will no longer be allowed to be loaded via this mode unless they are explicitly allowlisted by the user via `torch.serialization.add_safe_globals`. We recommend you start setting `weights_only=True` for any use case where you don't have full control of the loaded file. Please open an issue on GitHub for any issues related to this experimental feature.\n",
      "  cnn_model = torch.load('lunar_seismic_cnn_model_full.pth')\n"
     ]
    },
    {
     "data": {
      "text/plain": [
       "SpectrogramArrivalCNN(\n",
       "  (conv1): Conv2d(1, 32, kernel_size=(3, 3), stride=(1, 1), padding=(1, 1))\n",
       "  (bn1): BatchNorm2d(32, eps=1e-05, momentum=0.1, affine=True, track_running_stats=True)\n",
       "  (conv2): Conv2d(32, 64, kernel_size=(3, 3), stride=(1, 1), padding=(1, 1))\n",
       "  (bn2): BatchNorm2d(64, eps=1e-05, momentum=0.1, affine=True, track_running_stats=True)\n",
       "  (pool): MaxPool2d(kernel_size=2, stride=2, padding=0, dilation=1, ceil_mode=False)\n",
       "  (dropout): Dropout(p=0.5, inplace=False)\n",
       "  (fc_time): Linear(in_features=128, out_features=1, bias=True)\n",
       "  (fc1): Linear(in_features=200704, out_features=128, bias=True)\n",
       ")"
      ]
     },
     "execution_count": 12,
     "metadata": {},
     "output_type": "execute_result"
    }
   ],
   "source": [
    "# %% Load the full pretrained lunar model\n",
    "cnn_model = torch.load('lunar_seismic_cnn_model_full.pth')\n",
    "cnn_model.train()  # Set to training mode"
   ]
  },
  {
   "cell_type": "code",
   "execution_count": 13,
   "metadata": {},
   "outputs": [
    {
     "data": {
      "text/plain": [
       "<module 'dataloader' from '/home/aaron/GitHub/bespoke/SIFTER/dataloader.py'>"
      ]
     },
     "execution_count": 13,
     "metadata": {},
     "output_type": "execute_result"
    }
   ],
   "source": [
    "import importlib\n",
    "import dataloader\n",
    "from dataloader import DataLoaderHandler\n",
    "\n",
    "importlib.reload(dataloader)"
   ]
  },
  {
   "cell_type": "code",
   "execution_count": 14,
   "metadata": {},
   "outputs": [
    {
     "name": "stdout",
     "output_type": "stream",
     "text": [
      "Detected Event Arrival Time (relative): 2143.75 s, (absolute): 2022-01-02T04:35:43.775000\n",
      "Detected Event Arrival Time (relative): 535.80 s, (absolute): 2022-02-03T08:08:55.809000\n"
     ]
    }
   ],
   "source": [
    "# %% Preprocess and self-train on Martian data\n",
    "preprocessor = Preprocessing(save_dir_mars)\n",
    "martian_images, _ = preprocessor.preprocess_martian_data(data_dir=martian_data_directory)\n",
    "martian_data_loader = dataloader_handler.prepare_unlabeled_data_loader(martian_images)"
   ]
  },
  {
   "cell_type": "code",
   "execution_count": 15,
   "metadata": {},
   "outputs": [
    {
     "name": "stdout",
     "output_type": "stream",
     "text": [
      "Epoch [1/10], Loss Time: 0.0\n",
      "Epoch [2/10], Loss Time: 0.0\n",
      "Epoch [3/10], Loss Time: 0.0\n",
      "Epoch [4/10], Loss Time: 0.0\n",
      "Epoch [5/10], Loss Time: 0.0\n",
      "Epoch [6/10], Loss Time: 0.0\n",
      "Epoch [7/10], Loss Time: 0.0\n",
      "Epoch [8/10], Loss Time: 0.0\n",
      "Epoch [9/10], Loss Time: 0.0\n",
      "Epoch [10/10], Loss Time: 0.0\n"
     ]
    }
   ],
   "source": [
    "# %% Self-training on Martian data\n",
    "trainer.self_train_on_martian_data(martian_data_loader, criterion_time=criterion_time, num_epochs=10)"
   ]
  },
  {
   "cell_type": "code",
   "execution_count": 16,
   "metadata": {},
   "outputs": [
    {
     "name": "stdout",
     "output_type": "stream",
     "text": [
      "Saved the full model to martian_seismic_cnn_model_full.pth.\n",
      "Saved the model's state_dict to martian_seismic_cnn_model_state_dict.pth.\n"
     ]
    }
   ],
   "source": [
    "# %% Save the fine-tuned model after self-training on Martian data\n",
    "trainer.save_cnn_model('martian_seismic_cnn_model_full.pth')\n",
    "trainer.save_cnn_model_state_dict('martian_seismic_cnn_model_state_dict.pth')"
   ]
  },
  {
   "cell_type": "code",
   "execution_count": 18,
   "metadata": {},
   "outputs": [
    {
     "name": "stdout",
     "output_type": "stream",
     "text": [
      "Mean Squared Error (MSE): 0.11017212271690369\n",
      "Mean Absolute Error (MAE): 0.28977087140083313\n",
      "R-squared (R²): -0.3682965040206909\n"
     ]
    }
   ],
   "source": [
    "# %% Define the function to evaluate and compute metrics\n",
    "def evaluate_and_get_metrics(trainer, test_loader):\n",
    "    \"\"\"\n",
    "    Evaluate the model and compute metrics like MSE, MAE, and R-squared on the test set.\n",
    "    \"\"\"\n",
    "    trainer.cnn_model.eval()  # Set to evaluation mode\n",
    "    all_preds = []\n",
    "    all_labels = []\n",
    "    \n",
    "    with torch.no_grad():\n",
    "        for batch in test_loader:\n",
    "            # Unpack batch depending on the structure returned by the dataloader\n",
    "            if isinstance(batch, (list, tuple)):\n",
    "                inputs, time_labels = batch[0], batch[1]\n",
    "            else:\n",
    "                inputs = batch\n",
    "                time_labels = None  # Adjust as per the actual data structure\n",
    "\n",
    "            # Forward pass\n",
    "            time_output = trainer.cnn_model(inputs)\n",
    "\n",
    "            # Collect predictions and actual labels\n",
    "            all_preds.extend(time_output.cpu().numpy())\n",
    "            all_labels.extend(time_labels.cpu().numpy())\n",
    "\n",
    "    # Convert to numpy arrays\n",
    "    all_preds = np.array(all_preds)\n",
    "    all_labels = np.array(all_labels)\n",
    "\n",
    "    # Compute regression metrics\n",
    "    mse = mean_squared_error(all_labels, all_preds)\n",
    "    mae = mean_absolute_error(all_labels, all_preds)\n",
    "    r2 = r2_score(all_labels, all_preds)\n",
    "\n",
    "    # Print metrics\n",
    "    print(f\"Mean Squared Error (MSE): {mse}\")\n",
    "    print(f\"Mean Absolute Error (MAE): {mae}\")\n",
    "    print(f\"R-squared (R²): {r2}\")\n",
    "\n",
    "    return mse, mae, r2\n",
    "\n",
    "# %% Evaluate the model and compute metrics on the test set\n",
    "mse, mae, r2 = evaluate_and_get_metrics(trainer, lunar_test_loader)\n"
   ]
  }
 ],
 "metadata": {
  "kernelspec": {
   "display_name": ".venv",
   "language": "python",
   "name": "python3"
  },
  "language_info": {
   "codemirror_mode": {
    "name": "ipython",
    "version": 3
   },
   "file_extension": ".py",
   "mimetype": "text/x-python",
   "name": "python",
   "nbconvert_exporter": "python",
   "pygments_lexer": "ipython3",
   "version": "3.11.2"
  }
 },
 "nbformat": 4,
 "nbformat_minor": 2
}
